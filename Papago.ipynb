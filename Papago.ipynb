{
 "cells": [
  {
   "cell_type": "code",
   "execution_count": 1,
   "metadata": {},
   "outputs": [
    {
     "name": "stdout",
     "output_type": "stream",
     "text": [
      "Input file name you would like to translate (ex. my_file): 6.poon et al\n"
     ]
    }
   ],
   "source": [
    "from papago_trans import *\n",
    "import time\n",
    "from selenium import webdriver\n",
    "import tika\n",
    "from tika import parser\n",
    "import datetime\n",
    "import re\n",
    "file_name = input(\"Input file name you would like to translate (ex. my_file): \")"
   ]
  },
  {
   "cell_type": "markdown",
   "metadata": {},
   "source": [
    "### Read text from PDF"
   ]
  },
  {
   "cell_type": "code",
   "execution_count": 19,
   "metadata": {},
   "outputs": [],
   "source": [
    "article = get_article(file_name)"
   ]
  },
  {
   "cell_type": "code",
   "execution_count": 12,
   "metadata": {},
   "outputs": [],
   "source": [
    "with open('6.poon et al.txt', 'r', encoding='utf-8') as file:\n",
    "    article = file.read()"
   ]
  },
  {
   "cell_type": "markdown",
   "metadata": {},
   "source": [
    "### Preprocess text!!!!! (Done manually)\n",
    "\n",
    "```Python\n",
    "# some historical examples\n",
    "\n",
    "# all the things including, and between\n",
    "re.sub('\\n\\n[0-9]* Jacquelynne [A-Z.\\\\\\ a-z\\n©0-9,:;()-/]*s1096934\\n\\n\\n\\n',\n",
    "       '', article)\n",
    "\n",
    "article.replace('-\\n', '')\n",
    "\n",
    "article.replace('\\n', ' ')\n",
    "```"
   ]
  },
  {
   "cell_type": "code",
   "execution_count": 20,
   "metadata": {},
   "outputs": [],
   "source": [
    "# preprocess here\n",
    "article = article.replace('-\\n', '')\n",
    "article = re.sub('Comparative Education Review [0-9]*', '', article)\n",
    "article = article.replace('BAKER ET AL', '')\n",
    "article = article.replace('ANALYSIS OF THE “HEYNEMAN-LOXLEY EFFECT” ON MATHEMATICS AND SCHOOL ACHIEVEMENT', '')\n",
    "article = re.sub('\\n+', '\\n', article)\n",
    "article = article.replace('\\n', ' ')"
   ]
  },
  {
   "cell_type": "markdown",
   "metadata": {},
   "source": [
    "### Make article to list, and send them to papago"
   ]
  },
  {
   "cell_type": "code",
   "execution_count": 4,
   "metadata": {},
   "outputs": [],
   "source": [
    "start_driver()"
   ]
  },
  {
   "cell_type": "code",
   "execution_count": 14,
   "metadata": {},
   "outputs": [
    {
     "name": "stdout",
     "output_type": "stream",
     "text": [
      "Good to go\n"
     ]
    }
   ],
   "source": [
    "papa_list = article2lists(article, delim='\\n')"
   ]
  },
  {
   "cell_type": "code",
   "execution_count": null,
   "metadata": {},
   "outputs": [],
   "source": []
  },
  {
   "cell_type": "code",
   "execution_count": 36,
   "metadata": {},
   "outputs": [],
   "source": [
    "import pandas as pd\n",
    "with open(\"법정동 리스트.txt\", 'r', encoding='cp949') as f:\n",
    "    content = f.readlines()\n",
    "## split\n",
    "content = [_.split('\\t') for _ in content]\n",
    "## get rid of \\n\n",
    "content = [[i,j,z.replace('\\n', '')] for i,j,z in content]\n",
    "\n",
    "## make into data frame\n",
    "df = pd.DataFrame(content[1:], columns = content[0])"
   ]
  },
  {
   "cell_type": "code",
   "execution_count": 37,
   "metadata": {},
   "outputs": [],
   "source": [
    "d = list()\n",
    "for i in df.법정동코드:\n",
    "    if '00000000' in i:\n",
    "        d.append(i)"
   ]
  },
  {
   "cell_type": "code",
   "execution_count": 49,
   "metadata": {},
   "outputs": [],
   "source": [
    "big_string = ''\n",
    "for i in papa_list:\n",
    "    big_string = big_string + i + '\\n'"
   ]
  },
  {
   "cell_type": "code",
   "execution_count": 52,
   "metadata": {},
   "outputs": [
    {
     "data": {
      "text/plain": [
       "66.3282"
      ]
     },
     "execution_count": 52,
     "metadata": {},
     "output_type": "execute_result"
    }
   ],
   "source": [
    "len(big_string)/5000"
   ]
  },
  {
   "cell_type": "code",
   "execution_count": 43,
   "metadata": {},
   "outputs": [],
   "source": [
    "papa_list = list(df[(df.폐지여부!='폐지')].법정동명.values)"
   ]
  },
  {
   "cell_type": "code",
   "execution_count": null,
   "metadata": {},
   "outputs": [],
   "source": [
    "big_doc = dict()\n",
    "big_doc[0] = ''\n",
    "for i in papa_list:\n",
    "    temp = big_doc[i]\n",
    "    new_temp = temp + i + '\\n'\n",
    "    if len(new_temp) < 5000:\n",
    "        big_doc[i] = new_temp\n",
    "    else:\n",
    "        big_doc"
   ]
  },
  {
   "cell_type": "code",
   "execution_count": null,
   "metadata": {},
   "outputs": [],
   "source": []
  },
  {
   "cell_type": "code",
   "execution_count": null,
   "metadata": {},
   "outputs": [],
   "source": []
  },
  {
   "cell_type": "code",
   "execution_count": null,
   "metadata": {
    "scrolled": true
   },
   "outputs": [
    {
     "name": "stdout",
     "output_type": "stream",
     "text": [
      "Start translating\n",
      "65%\r"
     ]
    }
   ],
   "source": [
    "clean_translate = papa_translate(papa_list)"
   ]
  },
  {
   "cell_type": "code",
   "execution_count": 27,
   "metadata": {},
   "outputs": [
    {
     "name": "stdout",
     "output_type": "stream",
     "text": [
      "Done. The file name is: 6.Miller_trans.txt\n"
     ]
    }
   ],
   "source": [
    "papa_save(flat_list, file_name='6.Miller_trans.txt')\n",
    "# papa_fix_saved('6.Miller_trans.txt')"
   ]
  },
  {
   "cell_type": "code",
   "execution_count": 11,
   "metadata": {},
   "outputs": [],
   "source": [
    "end_driver()"
   ]
  },
  {
   "cell_type": "code",
   "execution_count": null,
   "metadata": {},
   "outputs": [],
   "source": []
  }
 ],
 "metadata": {
  "kernelspec": {
   "display_name": "Python 3",
   "language": "python",
   "name": "python3"
  },
  "language_info": {
   "codemirror_mode": {
    "name": "ipython",
    "version": 3
   },
   "file_extension": ".py",
   "mimetype": "text/x-python",
   "name": "python",
   "nbconvert_exporter": "python",
   "pygments_lexer": "ipython3",
   "version": "3.6.7"
  }
 },
 "nbformat": 4,
 "nbformat_minor": 4
}
