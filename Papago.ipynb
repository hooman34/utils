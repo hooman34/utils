{
 "cells": [
  {
   "cell_type": "code",
   "execution_count": 2,
   "metadata": {},
   "outputs": [],
   "source": [
    "import time\n",
    "from selenium import webdriver\n",
    "driver = webdriver.Chrome()\n",
    "driver.get('https://papago.naver.com/')"
   ]
  },
  {
   "cell_type": "code",
   "execution_count": 4,
   "metadata": {},
   "outputs": [],
   "source": [
    "def papa_list(string, delim = \"\\n\\n\"):\n",
    "    \"\"\"\n",
    "    Input is a string. The whole string that I want to translate.\n",
    "    Specify the delimiter to get a list of sentences.\n",
    "    This output could be an input to the `papa_translate` function.\n",
    "    \"\"\"\n",
    "    ls = string.split(delim)\n",
    "    ls = [_.replace('\\n', '') for _ in ls]\n",
    "    \n",
    "    if max([len(_) for _ in ls]) > 5000:\n",
    "        print(\"WARNING: Length of one string is too long!!!!!\")\n",
    "    else:\n",
    "        print(\"Good to go\")\n",
    "    return ls\n",
    "\n",
    "def papa_translate(papa_list, sleep_time=5):\n",
    "    \"\"\"\n",
    "    The input is a list of sentences.\n",
    "    Output is the translated version of those sentences.\n",
    "    \"\"\"\n",
    "    clean_translate = list()\n",
    "    error_list = list()\n",
    "    inputElement = driver.find_element_by_id(\"sourceEditArea\")\n",
    "    print(\"Start translating\")\n",
    "    process = 0\n",
    "    for i, n in zip(papa_list, range(len(papa_list))):\n",
    "        if i != '':\n",
    "            try:\n",
    "                inputElement.send_keys('a' + i)\n",
    "                time.sleep(sleep_time)\n",
    "                outputElement = driver.find_element_by_id(\"targetEditArea\")\n",
    "                print(str(int(round(n/len(papa_list), 2)*100)) + '%', end=\"\\r\")\n",
    "                clean_translate.append(outputElement.text)\n",
    "                driver.find_element_by_xpath('//*[@id=\"sourceEditArea\"]/button').click()\n",
    "                time.sleep(1)\n",
    "            except:\n",
    "                driver.find_element_by_xpath('//*[@id=\"sourceEditArea\"]/button').click()\n",
    "                error_list.append(n)\n",
    "    print('Errors occurred:', error_list)\n",
    "    return clean_translate\n",
    "\n",
    "def papa_save(papa_list, encoding = 'utf-8', delim='\\n\\n', file_name = 'myfile.txt'):\n",
    "    \"\"\"\n",
    "    Saves the translated list.\n",
    "    Doesn't return anything.\n",
    "    \"\"\"\n",
    "    t = ''\n",
    "    for i in papa_list:\n",
    "        t += i+ delim\n",
    "    file = open(file_name, 'w', encoding = 'utf-8')\n",
    "    file.write(t)\n",
    "    print(\"Done. The file name is:\", file_name)"
   ]
  },
  {
   "cell_type": "code",
   "execution_count": null,
   "metadata": {},
   "outputs": [],
   "source": [
    "ls = papa_list(first)\n",
    "clean = papa_translate(ls)\n",
    "papa_save(clean)"
   ]
  }
 ],
 "metadata": {
  "kernelspec": {
   "display_name": "Python 3",
   "language": "python",
   "name": "python3"
  },
  "language_info": {
   "codemirror_mode": {
    "name": "ipython",
    "version": 3
   },
   "file_extension": ".py",
   "mimetype": "text/x-python",
   "name": "python",
   "nbconvert_exporter": "python",
   "pygments_lexer": "ipython3",
   "version": "3.6.7"
  }
 },
 "nbformat": 4,
 "nbformat_minor": 4
}
