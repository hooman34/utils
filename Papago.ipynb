{
 "cells": [
  {
   "cell_type": "code",
   "execution_count": 5,
   "metadata": {},
   "outputs": [
    {
     "name": "stdout",
     "output_type": "stream",
     "text": [
      "Input file name you would like to translate (ex. my_file): 법정동 리스트\n"
     ]
    }
   ],
   "source": [
    "from papago_trans import *\n",
    "import time\n",
    "from selenium import webdriver\n",
    "import tika\n",
    "from tika import parser\n",
    "import datetime\n",
    "import re\n",
    "file_name = input(\"Input file name you would like to translate (ex. my_file): \")"
   ]
  },
  {
   "cell_type": "markdown",
   "metadata": {},
   "source": [
    "### Read text from PDF"
   ]
  },
  {
   "cell_type": "code",
   "execution_count": 19,
   "metadata": {},
   "outputs": [],
   "source": [
    "article = get_article(file_name)"
   ]
  },
  {
   "cell_type": "code",
   "execution_count": 9,
   "metadata": {},
   "outputs": [],
   "source": [
    "import pandas as pd\n",
    "with open(\"법정동 리스트.txt\", 'r', encoding='cp949') as f:\n",
    "    content = f.readlines()\n",
    "## split\n",
    "content = [_.split('\\t') for _ in content]\n",
    "## get rid of \\n\n",
    "content = [[i,j,z.replace('\\n', '')] for i,j,z in content]\n",
    "\n",
    "## make into data frame\n",
    "df = pd.DataFrame(content[1:], columns = content[0])"
   ]
  },
  {
   "cell_type": "code",
   "execution_count": 10,
   "metadata": {},
   "outputs": [],
   "source": [
    "d = list()\n",
    "for i in df.법정동코드:\n",
    "    if '00000000' in i:\n",
    "        d.append(i)"
   ]
  },
  {
   "cell_type": "code",
   "execution_count": 12,
   "metadata": {},
   "outputs": [],
   "source": [
    "busan = df[(df.법정동명.str.contains('부산광역시')) & (df.폐지여부!='폐지')]\n",
    "busan = busan[~busan.법정동코드.str.contains('000000')]"
   ]
  },
  {
   "cell_type": "code",
   "execution_count": 14,
   "metadata": {},
   "outputs": [],
   "source": [
    "busan_codes = busan.법정동코드.values\n",
    "busan_kor = busan.법정동명.values\n",
    "\n",
    "busan['short'] = busan.법정동코드.str.slice(stop=5)\n",
    "\n",
    "busan_s_codes = busan.drop_duplicates(subset=['short']).short.values\n",
    "busan_s_kor = ['부산광역시 중구', '부산광역시 서구', '부산광역시 동구', '부산광역시 영도구', '부산광역시 부산진구',\n",
    "               '부산광역시 동래구', '부산광역시 남구', '부산광역시 북구', '부산광역시 해운대구', '부산광역시 사하구',\n",
    "               '부산광역시 금정구', '부산광역시 강서구', '부산광역시 연제구', '부산광역시 수영구',\n",
    "               '부산광역시 사상구', '부산광역시 기장군']\n",
    "len(busan_s_codes)==len(busan_s_kor)"
   ]
  },
  {
   "cell_type": "code",
   "execution_count": 49,
   "metadata": {},
   "outputs": [
    {
     "data": {
      "text/plain": [
       "True"
      ]
     },
     "execution_count": 49,
     "metadata": {},
     "output_type": "execute_result"
    }
   ],
   "source": [
    "seoul = df[(df.법정동명.str.contains('서울')) & (df.폐지여부!='폐지')]\n",
    "seoul = seoul[~seoul.법정동코드.str.contains('000000')]\n",
    "\n",
    "seoul_codes = seoul.법정동코드.values\n",
    "seoul_kor = seoul.법정동명.values\n",
    "\n",
    "seoul['short'] = seoul.법정동코드.str.slice(stop=5)\n",
    "seoul_s_codes = seoul.drop_duplicates(subset=['short']).short.values\n",
    "seoul_s_kor = ['서울특별시 종로구', '서울특별시 중구', '서울특별시 용산구', '서울특별시 성동구', '서울특별시 광진구',\n",
    "               '서울특별시 동대문구', '서울특별시 중랑구', '서울특별시 성북구', '서울특별시 강북구', '서울특별시 도봉구',\n",
    "               '서울특별시 노원구', '서울특별시 은평구', '서울특별시 서대문구', '서울특별시 마포구',\n",
    "               '서울특별시 양천구', '서울특별시 강서구', '서울특별시 구로구', '서울특별시 금천구',\n",
    "               '서울특별시 영등포구', '서울특별시 동작구', '서울특별시 관악구', '서울특별시 서초구', \n",
    "               '서울특별시 강남구', '서울특별시 송파구', '서울특별시 강동구']\n",
    "len(seoul_s_codes)==len(seoul_s_kor)"
   ]
  },
  {
   "cell_type": "markdown",
   "metadata": {},
   "source": [
    "### Preprocess text!!!!! (Done manually)\n",
    "\n",
    "```Python\n",
    "# some historical examples\n",
    "\n",
    "# all the things including, and between\n",
    "re.sub('\\n\\n[0-9]* Jacquelynne [A-Z.\\\\\\ a-z\\n©0-9,:;()-/]*s1096934\\n\\n\\n\\n',\n",
    "       '', article)\n",
    "\n",
    "article.replace('-\\n', '')\n",
    "\n",
    "article.replace('\\n', ' ')\n",
    "```"
   ]
  },
  {
   "cell_type": "code",
   "execution_count": 20,
   "metadata": {},
   "outputs": [],
   "source": [
    "# preprocess here\n",
    "article = article.replace('-\\n', '')\n",
    "article = re.sub('Comparative Education Review [0-9]*', '', article)\n",
    "article = article.replace('BAKER ET AL', '')\n",
    "article = article.replace('ANALYSIS OF THE “HEYNEMAN-LOXLEY EFFECT” ON MATHEMATICS AND SCHOOL ACHIEVEMENT', '')\n",
    "article = re.sub('\\n+', '\\n', article)\n",
    "article = article.replace('\\n', ' ')"
   ]
  },
  {
   "cell_type": "markdown",
   "metadata": {},
   "source": [
    "### Make article to list, and send them to papago"
   ]
  },
  {
   "cell_type": "code",
   "execution_count": 28,
   "metadata": {},
   "outputs": [],
   "source": [
    "start_driver()"
   ]
  },
  {
   "cell_type": "code",
   "execution_count": 14,
   "metadata": {},
   "outputs": [
    {
     "name": "stdout",
     "output_type": "stream",
     "text": [
      "Good to go\n"
     ]
    }
   ],
   "source": [
    "papa_list = article2lists(article, delim='\\n')"
   ]
  },
  {
   "cell_type": "code",
   "execution_count": 29,
   "metadata": {
    "scrolled": true
   },
   "outputs": [
    {
     "name": "stdout",
     "output_type": "stream",
     "text": [
      "Start translating\n",
      "Errors occurred: []\n",
      "Start translating\n",
      "Errors occurred: []\n"
     ]
    }
   ],
   "source": [
    "busan_eng = papa_translate(busan_kor)\n",
    "busan_s_eng = papa_translate(busan_s_kor)"
   ]
  },
  {
   "cell_type": "code",
   "execution_count": 35,
   "metadata": {},
   "outputs": [
    {
     "name": "stdout",
     "output_type": "stream",
     "text": [
      "Start translating\n",
      "Errors occurred: []\n",
      "Start translating\n",
      "Errors occurred: []\n"
     ]
    }
   ],
   "source": [
    "seoul_eng = papa_translate(seoul_kor)\n",
    "seoul_s_eng = papa_translate(seoul_s_kor)"
   ]
  },
  {
   "cell_type": "code",
   "execution_count": 41,
   "metadata": {},
   "outputs": [],
   "source": [
    "def only_kor(translated_list):\n",
    "    translated_list = [_.split('\\n')[:-1] for _ in translated_list]\n",
    "    translated_list = [item for sublist in translated_list for item in sublist]\n",
    "    return translated_list"
   ]
  },
  {
   "cell_type": "code",
   "execution_count": 42,
   "metadata": {},
   "outputs": [],
   "source": [
    "busan_eng = only_kor(busan_eng)\n",
    "busan_s_eng = only_kor(busan_s_eng)\n",
    "seoul_eng = only_kor(seoul_eng)\n",
    "seoul_s_eng = only_kor(seoul_s_eng)"
   ]
  },
  {
   "cell_type": "code",
   "execution_count": 51,
   "metadata": {},
   "outputs": [],
   "source": [
    "trans_busan_fullPNU = pd.DataFrame(data=list(zip(busan_codes, busan_eng, busan_kor)))\n",
    "trans_busan_shortPNU = pd.DataFrame(data=list(zip(busan_s_codes, busan_s_eng, busan_s_kor)))"
   ]
  },
  {
   "cell_type": "code",
   "execution_count": 54,
   "metadata": {},
   "outputs": [],
   "source": [
    "trans_seoul_fullPNU = pd.DataFrame(data=list(zip(seoul_codes, seoul_eng, seoul_kor)))\n",
    "trans_seoul_shortPNU = pd.DataFrame(data=list(zip(seoul_s_codes, seoul_s_eng, seoul_s_kor)))"
   ]
  },
  {
   "cell_type": "code",
   "execution_count": 59,
   "metadata": {},
   "outputs": [],
   "source": [
    "trans_busan_fullPNU.to_excel('trans_busan_fullPNU.xlsx')\n",
    "trans_busan_shortPNU.to_excel('trans_busan_shortPNU.xlsx')\n",
    "trans_seoul_fullPNU.to_excel('trans_seoul_fullPNU.xlsx')\n",
    "trans_seoul_shortPNU.to_excel('trans_seoul_shortPNU.xlsx')"
   ]
  },
  {
   "cell_type": "code",
   "execution_count": null,
   "metadata": {},
   "outputs": [],
   "source": []
  },
  {
   "cell_type": "code",
   "execution_count": 27,
   "metadata": {},
   "outputs": [
    {
     "name": "stdout",
     "output_type": "stream",
     "text": [
      "Done. The file name is: 6.Miller_trans.txt\n"
     ]
    }
   ],
   "source": [
    "papa_save(flat_list, file_name='6.Miller_trans.txt')\n",
    "# papa_fix_saved('6.Miller_trans.txt')"
   ]
  },
  {
   "cell_type": "code",
   "execution_count": 36,
   "metadata": {},
   "outputs": [],
   "source": [
    "end_driver()"
   ]
  },
  {
   "cell_type": "code",
   "execution_count": null,
   "metadata": {},
   "outputs": [],
   "source": []
  }
 ],
 "metadata": {
  "kernelspec": {
   "display_name": "Python 3",
   "language": "python",
   "name": "python3"
  }
 },
 "nbformat": 4,
 "nbformat_minor": 4
}
