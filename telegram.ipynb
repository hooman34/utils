{
 "cells": [
  {
   "cell_type": "code",
   "execution_count": 23,
   "metadata": {},
   "outputs": [],
   "source": [
    "import telepot\n",
    "from bottle import run, post\n",
    "token = '802353191:AAFk_SLAyxgwNDoXQKWtOCYZmMOrxb_deeo'\n",
    "TelegramBot = telepot.Bot(token)"
   ]
  },
  {
   "cell_type": "code",
   "execution_count": 31,
   "metadata": {},
   "outputs": [
    {
     "data": {
      "text/plain": [
       "True"
      ]
     },
     "execution_count": 31,
     "metadata": {},
     "output_type": "execute_result"
    }
   ],
   "source": [
    "TelegramBot.setWebhook(\"https://api.telegram.org/802353191:AAFk_SLAyxgwNDoXQKWtOCYZmMOrxb_deeo/\")"
   ]
  },
  {
   "cell_type": "code",
   "execution_count": 32,
   "metadata": {},
   "outputs": [
    {
     "data": {
      "text/plain": [
       "{'url': 'https://api.telegram.org/802353191:AAFk_SLAyxgwNDoXQKWtOCYZmMOrxb_deeo/',\n",
       " 'has_custom_certificate': False,\n",
       " 'pending_update_count': 2,\n",
       " 'last_error_date': 1583857219,\n",
       " 'last_error_message': 'Wrong response from the webhook: 404 Not Found',\n",
       " 'max_connections': 40}"
      ]
     },
     "execution_count": 32,
     "metadata": {},
     "output_type": "execute_result"
    }
   ],
   "source": [
    "TelegramBot.getWebhookInfo()"
   ]
  },
  {
   "cell_type": "code",
   "execution_count": 13,
   "metadata": {},
   "outputs": [
    {
     "data": {
      "text/plain": [
       "{'id': 802353191,\n",
       " 'is_bot': True,\n",
       " 'first_name': 'Bart',\n",
       " 'username': 'Gieun34_bot',\n",
       " 'can_join_groups': True,\n",
       " 'can_read_all_group_messages': False,\n",
       " 'supports_inline_queries': False}"
      ]
     },
     "execution_count": 13,
     "metadata": {},
     "output_type": "execute_result"
    }
   ],
   "source": [
    "TelegramBot.getMe()"
   ]
  },
  {
   "cell_type": "code",
   "execution_count": 15,
   "metadata": {},
   "outputs": [
    {
     "data": {
      "text/plain": [
       "[{'update_id': 629414424,\n",
       "  'message': {'message_id': 2,\n",
       "   'from': {'id': 824360889,\n",
       "    'is_bot': False,\n",
       "    'first_name': 'Mancuso',\n",
       "    'language_code': 'ko'},\n",
       "   'chat': {'id': 824360889, 'first_name': 'Mancuso', 'type': 'private'},\n",
       "   'date': 1583855150,\n",
       "   'text': '/start',\n",
       "   'entities': [{'offset': 0, 'length': 6, 'type': 'bot_command'}]}}]"
      ]
     },
     "execution_count": 15,
     "metadata": {},
     "output_type": "execute_result"
    }
   ],
   "source": [
    "TelegramBot.getUpdates()"
   ]
  },
  {
   "cell_type": "code",
   "execution_count": 16,
   "metadata": {},
   "outputs": [
    {
     "data": {
      "text/plain": [
       "{'message_id': 3,\n",
       " 'from': {'id': 802353191,\n",
       "  'is_bot': True,\n",
       "  'first_name': 'Bart',\n",
       "  'username': 'Gieun34_bot'},\n",
       " 'chat': {'id': 824360889, 'first_name': 'Mancuso', 'type': 'private'},\n",
       " 'date': 1583855791,\n",
       " 'text': 'Hey nam'}"
      ]
     },
     "execution_count": 16,
     "metadata": {},
     "output_type": "execute_result"
    }
   ],
   "source": [
    "TelegramBot.sendMessage('824360889', 'Hey nam')"
   ]
  },
  {
   "cell_type": "code",
   "execution_count": null,
   "metadata": {},
   "outputs": [],
   "source": []
  },
  {
   "cell_type": "code",
   "execution_count": null,
   "metadata": {},
   "outputs": [],
   "source": []
  },
  {
   "cell_type": "code",
   "execution_count": null,
   "metadata": {},
   "outputs": [],
   "source": []
  },
  {
   "cell_type": "code",
   "execution_count": 33,
   "metadata": {},
   "outputs": [],
   "source": [
    "import time\n",
    "# import requests\n",
    "# from bs4 import BeautifulSoup\n",
    "# import nltk\n",
    "import telegram\n",
    "headers = {\"user-agent\": \"Mozilla/5.0 (Windows NT 10.0; Win64; x64) AppleWebKit/537.36 (KHTML, like Gecko) Chrome/75.0.3770.100 Safari/537.36\"}\n",
    "api_key = '923950181:AAFlPYBijXgS034aeD4tzaM1oIzTLSbD4yQ'\n",
    "chat_id = '824360889'\n",
    "# webhook was set\n",
    "# https://api.telegram.org/bot923950181:AAFlPYBijXgS034aeD4tzaM1oIzTLSbD4yQ/setWebhook?url=https://078a19a4.ngrok.io"
   ]
  },
  {
   "cell_type": "code",
   "execution_count": 60,
   "metadata": {},
   "outputs": [],
   "source": [
    "bot = telepot.Bot(api_key)"
   ]
  },
  {
   "cell_type": "code",
   "execution_count": 56,
   "metadata": {},
   "outputs": [
    {
     "data": {
      "text/plain": [
       "{'message_id': 272,\n",
       " 'from': {'id': 923950181,\n",
       "  'is_bot': True,\n",
       "  'first_name': 'ISAC_bot',\n",
       "  'username': 'ISAC12_bot'},\n",
       " 'chat': {'id': 824360889, 'first_name': 'Mancuso', 'type': 'private'},\n",
       " 'date': 1583860019,\n",
       " 'text': 'heyheyehye'}"
      ]
     },
     "execution_count": 56,
     "metadata": {},
     "output_type": "execute_result"
    }
   ],
   "source": [
    "bot.sendMessage('824360889', 'heyheyehye')"
   ]
  },
  {
   "cell_type": "code",
   "execution_count": null,
   "metadata": {},
   "outputs": [],
   "source": [
    "bot."
   ]
  },
  {
   "cell_type": "code",
   "execution_count": 48,
   "metadata": {},
   "outputs": [
    {
     "data": {
      "text/plain": [
       "True"
      ]
     },
     "execution_count": 48,
     "metadata": {},
     "output_type": "execute_result"
    }
   ],
   "source": [
    "bot.setWebhook('https://api.telegram.org/923950181:AAFlPYBijXgS034aeD4tzaM1oIzTLSbD4yQ')"
   ]
  },
  {
   "cell_type": "code",
   "execution_count": 59,
   "metadata": {},
   "outputs": [
    {
     "data": {
      "text/plain": [
       "{'url': 'https://e648a859.ngrok.io/webhooks/telegram',\n",
       " 'has_custom_certificate': False,\n",
       " 'pending_update_count': 2,\n",
       " 'last_error_date': 1583860510,\n",
       " 'last_error_message': 'Wrong response from the webhook: 403 Forbidden',\n",
       " 'max_connections': 40}"
      ]
     },
     "execution_count": 59,
     "metadata": {},
     "output_type": "execute_result"
    }
   ],
   "source": [
    "bot.getWebhookInfo()"
   ]
  },
  {
   "cell_type": "code",
   "execution_count": 41,
   "metadata": {},
   "outputs": [
    {
     "data": {
      "text/plain": [
       "True"
      ]
     },
     "execution_count": 41,
     "metadata": {},
     "output_type": "execute_result"
    }
   ],
   "source": [
    "bot.deleteWebhook()"
   ]
  },
  {
   "cell_type": "code",
   "execution_count": 42,
   "metadata": {},
   "outputs": [
    {
     "data": {
      "text/plain": [
       "[]"
      ]
     },
     "execution_count": 42,
     "metadata": {},
     "output_type": "execute_result"
    }
   ],
   "source": [
    "bot.getUpdates()"
   ]
  },
  {
   "cell_type": "code",
   "execution_count": null,
   "metadata": {},
   "outputs": [],
   "source": []
  },
  {
   "cell_type": "code",
   "execution_count": 10,
   "metadata": {},
   "outputs": [
    {
     "ename": "AttributeError",
     "evalue": "module 'telegram' has no attribute 'Bot'",
     "output_type": "error",
     "traceback": [
      "\u001b[1;31m---------------------------------------------------------------------------\u001b[0m",
      "\u001b[1;31mAttributeError\u001b[0m                            Traceback (most recent call last)",
      "\u001b[1;32m<ipython-input-10-e5692cdff66e>\u001b[0m in \u001b[0;36m<module>\u001b[1;34m\u001b[0m\n\u001b[1;32m----> 1\u001b[1;33m \u001b[0mbot\u001b[0m \u001b[1;33m=\u001b[0m \u001b[0mtelegram\u001b[0m\u001b[1;33m.\u001b[0m\u001b[0mBot\u001b[0m\u001b[1;33m(\u001b[0m\u001b[0mtoken\u001b[0m\u001b[1;33m=\u001b[0m\u001b[0mapi_key\u001b[0m\u001b[1;33m)\u001b[0m\u001b[1;33m\u001b[0m\u001b[1;33m\u001b[0m\u001b[0m\n\u001b[0m",
      "\u001b[1;31mAttributeError\u001b[0m: module 'telegram' has no attribute 'Bot'"
     ]
    }
   ],
   "source": [
    "bot = telegram.Bot(token=api_key)"
   ]
  },
  {
   "cell_type": "code",
   "execution_count": null,
   "metadata": {},
   "outputs": [],
   "source": []
  }
 ],
 "metadata": {
  "kernelspec": {
   "display_name": "Python 3",
   "language": "python",
   "name": "python3"
  },
  "language_info": {
   "codemirror_mode": {
    "name": "ipython",
    "version": 3
   },
   "file_extension": ".py",
   "mimetype": "text/x-python",
   "name": "python",
   "nbconvert_exporter": "python",
   "pygments_lexer": "ipython3",
   "version": "3.6.7"
  }
 },
 "nbformat": 4,
 "nbformat_minor": 4
}
